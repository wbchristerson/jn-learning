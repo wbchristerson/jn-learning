{
 "cells": [
  {
   "cell_type": "code",
   "execution_count": 1,
   "id": "c32d5c7b",
   "metadata": {},
   "outputs": [],
   "source": [
    "strat_univ = ['BTCUSDT', 'ETHUSDT', 'ADAUSDT', 'BNBUSDT', 'XRPUSDT', 'DOTUSDT', 'MATICUSDT']"
   ]
  },
  {
   "cell_type": "markdown",
   "id": "b329cc37",
   "metadata": {},
   "source": [
    "# Load And Structure Data"
   ]
  },
  {
   "cell_type": "code",
   "execution_count": 2,
   "id": "18007b62",
   "metadata": {},
   "outputs": [
    {
     "name": "stdout",
     "output_type": "stream",
     "text": [
      "Intel MKL WARNING: Support of Intel(R) Streaming SIMD Extensions 4.2 (Intel(R) SSE4.2) enabled only processors has been deprecated. Intel oneAPI Math Kernel Library 2025.0 will require Intel(R) Advanced Vector Extensions (Intel(R) AVX) instructions.\n",
      "Intel MKL WARNING: Support of Intel(R) Streaming SIMD Extensions 4.2 (Intel(R) SSE4.2) enabled only processors has been deprecated. Intel oneAPI Math Kernel Library 2025.0 will require Intel(R) Advanced Vector Extensions (Intel(R) AVX) instructions.\n"
     ]
    }
   ],
   "source": [
    "from binance.client import Client as bnb_client\n",
    "from binance.client import BinanceAPIException\n",
    "from datetime import datetime\n",
    "import pandas as pd\n",
    "\n",
    "client = bnb_client(tld='US')\n",
    "\n",
    "def get_price_data_for_coin(coin, freq, start_date):\n",
    "    bn_data = client.get_historical_klines(coin, freq, start_date)\n",
    "    columns = ['open_time','open','high','low','close','volume','close_time','quote_volume',\n",
    "        'num_trades','taker_base_volume','taker_quote_volume','ignore']\n",
    "\n",
    "    bn_data = pd.DataFrame(bn_data, columns=columns)\n",
    "    bn_data['open_time'] = bn_data['open_time'].map(lambda x: datetime.utcfromtimestamp(x / 1000))\n",
    "    bn_data['close_time'] = bn_data['close_time'].map(lambda x: datetime.utcfromtimestamp(x / 1000))\n",
    "    return bn_data\n",
    "\n",
    "\n",
    "def get_price_data_for_universe(freq, start_date):\n",
    "    px_data = {}\n",
    "\n",
    "    for coin in strat_univ:\n",
    "        try:\n",
    "            px_data[coin] = get_price_data_for_coin(coin, freq, start_date).set_index('open_time')\n",
    "            print(f\"Downloaded data for {coin}.\")\n",
    "        except BinanceAPIException:\n",
    "            print(f\"Couldn't load data for {coin}.\")\n",
    "    \n",
    "    return px_data"
   ]
  },
  {
   "cell_type": "code",
   "execution_count": 3,
   "id": "87bbc6fb",
   "metadata": {},
   "outputs": [],
   "source": [
    "data_freq = '4h'\n",
    "look_back_window_size = 30 * 6\n",
    "look_back_min_periods = 10 * 6\n",
    "start_datetime = '2020-01-01 00:00:00'"
   ]
  },
  {
   "cell_type": "code",
   "execution_count": 4,
   "id": "1fe01a0c",
   "metadata": {},
   "outputs": [
    {
     "name": "stdout",
     "output_type": "stream",
     "text": [
      "Downloaded data for BTCUSDT.\n",
      "Downloaded data for ETHUSDT.\n",
      "Downloaded data for ADAUSDT.\n",
      "Downloaded data for BNBUSDT.\n",
      "Downloaded data for XRPUSDT.\n",
      "Downloaded data for DOTUSDT.\n",
      "Downloaded data for MATICUSDT.\n"
     ]
    }
   ],
   "source": [
    "px_data = get_price_data_for_universe(data_freq, start_datetime)"
   ]
  },
  {
   "cell_type": "code",
   "execution_count": null,
   "id": "ed25ea44",
   "metadata": {},
   "outputs": [],
   "source": [
    "px_data"
   ]
  },
  {
   "cell_type": "code",
   "execution_count": null,
   "id": "cc7c717e",
   "metadata": {},
   "outputs": [],
   "source": [
    "px_close = {coin: px_data[coin][\"close\"] for coin in px_data}\n",
    "px_close = pd.DataFrame(px_close).astype(float)\n",
    "px_close.index.rename(\"datetime\", inplace=True)\n",
    "\n",
    "px_close"
   ]
  }
 ],
 "metadata": {
  "kernelspec": {
   "display_name": "Python 3 (ipykernel)",
   "language": "python",
   "name": "python3"
  },
  "language_info": {
   "codemirror_mode": {
    "name": "ipython",
    "version": 3
   },
   "file_extension": ".py",
   "mimetype": "text/x-python",
   "name": "python",
   "nbconvert_exporter": "python",
   "pygments_lexer": "ipython3",
   "version": "3.11.5"
  }
 },
 "nbformat": 4,
 "nbformat_minor": 5
}
