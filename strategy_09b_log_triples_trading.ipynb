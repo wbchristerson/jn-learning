{
 "cells": [
  {
   "cell_type": "markdown",
   "id": "6bd9bd96",
   "metadata": {},
   "source": [
    "Similar to strategy_09a except that we use log prices to choose correlated triples of coins and to calculate beta and alpha for the portfolio's holdings."
   ]
  },
  {
   "cell_type": "code",
   "execution_count": null,
   "id": "2355e88a",
   "metadata": {},
   "outputs": [],
   "source": [
    "# Historical snapshot of coins from December 01, 2019: https://coinmarketcap.com/historical/20191201/ used to\n",
    "# get a representative set of coins from before the period of analysis to avoid look-ahead bias.\n",
    "\n",
    "strat_univ = [\n",
    "    'BTCUSDT', 'ETHUSDT', 'XRPUSDT', 'BCHUSDT', 'LTCUSDT', 'EOSUSDT', 'BNBUSDT',\n",
    "    'XLMUSDT', 'TRXUSDT', 'ADAUSDT', 'XTZUSDT', 'LINKUSDT', 'ATOMUSDT',\n",
    "    'NEOUSDT', 'MKRUSDT', 'DASHUSDT', 'ETCUSDT', 'USDCUSDT', 'ONTUSDT', 'VETUSDT',\n",
    "    'DOGEUSDT', 'BATUSDT', 'ZECUSDT',\n",
    "    'SNXUSDT', 'QTUMUSDT', 'TUSDUSDT', 'ZRXUSDT',\n",
    "    'THXUSDT', 'THRUSDT', 'ALGOUSDT', 'REPUSDT', 'NANOUSDT', 'KBCUSDT', 'BTGUSDT', 'RVNUSDT', 'OMGUSDT',\n",
    "    'CNXUSDT', 'ABBCUSDT', 'XINUSDT', 'VSYSUSDT', 'SEELEUSDT', 'EONUSDT', 'ZBUSDT', 'EKTUSDT', 'DGBUSDT',\n",
    "    'BTMUSDT', 'LSKUSDT', 'KMDUSDT', 'SAIUSDT', 'LUNAUSDT', 'KCSUSDT', 'FTTUSDT', 'QNTUSDT', 'SXPUSDT',\n",
    "    'BDXUSDT', 'GAPUSDT', 'BCDUSDT', 'THETAUSDT', 'ICXUSDT', 'FSTUSDT', 'MATICUSDT', 'SCUSDT', 'EVRUSDT',\n",
    "    'BTTUSDT', 'MOFUSDT', 'IOSTUSDT', 'MCOUSDT', 'WAVESUSDT', 'XVGUSDT', 'MONAUSDT', 'BTSUSDT', 'BCNUSDT',\n",
    "    'HCUSDT', 'MAIDUSDT', 'NEXOUSDT', 'ARDRUSDT', 'DXUSDT', 'OKBUSDT', 'FXCUSDT', 'RLCUSDT', 'MBUSDT',\n",
    "    'BXKUSDT', 'AEUSDT', 'ENJUSDT', 'STEEMUSDT', 'SLVUSDT', 'BRZEUSDT', 'ZILUSDT', 'VESTUSDT', 'ZENUSDT',\n",
    "    'SOLVEUSDT', 'CHZUSDT', 'NOAHUSDT', 'LAUSDT', 'BTMXUSDT', 'ETNUSDT', 'ENGUSDT', 'ILCUSDT', 'NPXSUSDT',\n",
    "    'CRPTUSDT', 'GNTUSDT', 'SNTUSDT', 'ELFUSDT', 'JWLUSDT', 'FETUSDT', 'BOTXUSDT', 'NRGUSDT', 'DGDUSDT',\n",
    "    'EXMRUSDT', 'EURSUSDT', 'AOAUSDT', 'RIFUSDT', 'CIX100USDT', 'BFUSDT', 'XZCUSDT', 'FABUSDT', 'GRINUSDT',\n",
    "    'NETUSDT', 'VERIUSDT', 'DGTXUSDT', 'KNCUSDT', 'RENUSDT', 'STRATUSDT', 'ETPUSDT', 'NEXUSDT', 'NEWUSDT',\n",
    "    'BCZEROUSDT', 'GXCUSDT', 'TNTUSDT', 'BTC2USDT', 'PPTUSDT', 'USDKUSDT', 'ELAUSDT', 'IGNISUSDT', 'PLCUSDT',\n",
    "    'BNKUSDT', 'DTRUSDT', 'RCNUSDT', 'HPTUSDT', 'LAMBUSDT', 'MANAUSDT', 'EDCUSDT', 'BEAMUSDT', 'TTUSDT',\n",
    "    'AIONUSDT', 'BZUSDT', 'WTCUSDT', 'WICCUSDT', 'LRCUSDT', 'BRDUSDT', 'FCTUSDT', 'NULSUSDT', 'FTMUSDT',\n",
    "    'IOTXUSDT', 'QBITUSDT', 'XMXUSDT', 'YOUUSDT', 'NASUSDT', 'WAXPUSDT', 'ARKUSDT', 'RDDUSDT', 'GNYUSDT',\n",
    "    'AGVCUSDT', 'HYNUSDT', 'CVCUSDT', 'WANUSDT', 'WINUSDT', 'LINAUSDT', 'RUSDT', 'PAIUSDT', 'FSNUSDT',\n",
    "    'FUNUSDT', 'DPTUSDT', 'BHDUSDT', 'LOOMUSDT', 'XACUSDT', 'BUSDUSDT', 'BHPUSDT', 'TRUEUSDT', 'LOKIUSDT',\n",
    "    'QASHUSDT', 'BNTUSDT', 'DOTUSDT', 'SOLUSDT']"
   ]
  },
  {
   "cell_type": "markdown",
   "id": "02af55a9",
   "metadata": {},
   "source": [
    "## Load And Structure Data"
   ]
  },
  {
   "cell_type": "code",
   "execution_count": null,
   "id": "bfd5dfbe",
   "metadata": {},
   "outputs": [],
   "source": [
    "from binance.client import Client as bnb_client\n",
    "from binance.client import BinanceAPIException\n",
    "from datetime import datetime\n",
    "import pandas as pd\n",
    "\n",
    "client = bnb_client(tld='US')\n",
    "\n",
    "def get_price_data_for_coin(coin, freq, start_date):\n",
    "    bn_data = client.get_historical_klines(coin, freq, start_date)\n",
    "    columns = ['open_time','open','high','low','close','volume','close_time','quote_volume',\n",
    "        'num_trades','taker_base_volume','taker_quote_volume','ignore']\n",
    "\n",
    "    bn_data = pd.DataFrame(bn_data, columns=columns)\n",
    "    bn_data['open_time'] = bn_data['open_time'].map(lambda x: datetime.utcfromtimestamp(x / 1000))\n",
    "    bn_data['close_time'] = bn_data['close_time'].map(lambda x: datetime.utcfromtimestamp(x / 1000))\n",
    "    return bn_data\n",
    "\n",
    "\n",
    "def get_price_data_for_universe(freq, start_date):\n",
    "    px_data = {}\n",
    "\n",
    "    for coin in strat_univ:\n",
    "        try:\n",
    "            px_data[coin] = get_price_data_for_coin(coin, freq, start_date).set_index('open_time')\n",
    "            print(f\"Downloaded data for {coin}.\")\n",
    "        except BinanceAPIException:\n",
    "            print(f\"Couldn't load data for {coin}.\")\n",
    "    \n",
    "    return px_data"
   ]
  },
  {
   "cell_type": "code",
   "execution_count": null,
   "id": "7d8c9ddb",
   "metadata": {},
   "outputs": [],
   "source": [
    "data_freq = '4h'\n",
    "look_back_window_size = 30 * 6\n",
    "look_back_min_periods = 10 * 6\n",
    "start_datetime = '2020-01-01 00:00:00'\n",
    "# in_sample_end = pd.to_datetime(\"2022-12-31 20:00:00\")\n",
    "# out_sample_start = pd.to_datetime(\"2023-01-01 00:00:00\")"
   ]
  },
  {
   "cell_type": "code",
   "execution_count": null,
   "id": "2bef86d0",
   "metadata": {
    "scrolled": false
   },
   "outputs": [],
   "source": [
    "px_data = get_price_data_for_universe(data_freq, start_datetime)"
   ]
  },
  {
   "cell_type": "code",
   "execution_count": null,
   "id": "cc0db068",
   "metadata": {},
   "outputs": [],
   "source": [
    "import numpy as np\n",
    "\n",
    "px_close = {coin: px_data[coin][\"close\"] for coin in px_data}\n",
    "px_close = pd.DataFrame(px_close).astype(float)\n",
    "px_close.index.rename(\"datetime\", inplace=True)\n",
    "\n",
    "log_px_close = np.log(px_close)\n",
    "log_px_close"
   ]
  },
  {
   "cell_type": "code",
   "execution_count": null,
   "id": "7e042c74",
   "metadata": {},
   "outputs": [],
   "source": [
    "from enum import Enum\n",
    "\n",
    "class CorrSelectionMethod(Enum):\n",
    "    MAX_CORR = 1\n",
    "    MIN_CORR = 2"
   ]
  },
  {
   "cell_type": "code",
   "execution_count": null,
   "id": "19f57499",
   "metadata": {},
   "outputs": [],
   "source": [
    "import statsmodels.api as sm\n",
    "\n",
    "def has_high_corr_pair_available(coin, corr_matrix, coins_in_a_triple, log_px_close_window,\n",
    "                                 correlation_acceptance_threshold):\n",
    "    if np.isnan(log_px_close_window[coin]).any():\n",
    "        return False\n",
    "    num_available_coins = 0\n",
    "    for other_coin in corr_matrix[coin][corr_matrix[coin] > correlation_acceptance_threshold].index:\n",
    "        if (other_coin != coin and (other_coin not in coins_in_a_triple) and \\\n",
    "            (not np.isnan(log_px_close_window[other_coin]).any())):\n",
    "            num_available_coins += 1\n",
    "    return num_available_coins >= 2\n",
    "\n",
    "\n",
    "def update_correlated_coins_to_min_corr(coin, corr_matrix, coins_in_a_triple, current_correlated_triples,\n",
    "                                        log_px_close_data, correlation_acceptance_threshold):\n",
    "    min_corr = 1.0\n",
    "    min_corr_coin = None\n",
    "    second_smallest_corr = 1.0\n",
    "    second_min_corr_coin = None\n",
    "    for other_coin in corr_matrix[coin][corr_matrix[coin] > correlation_acceptance_threshold].index:\n",
    "        if np.isnan(log_px_close_data[other_coin]).any():\n",
    "            continue\n",
    "        elif other_coin in coins_in_a_triple:\n",
    "            continue\n",
    "        elif other_coin != coin and corr_matrix.loc[coin, other_coin] <= min_corr:\n",
    "            second_smallest_corr, min_corr = min_corr, corr_matrix.loc[coin, other_coin]\n",
    "            second_min_corr_coin, min_corr_coin = min_corr_coin, other_coin\n",
    "        elif other_coin != coin and corr_matrix.loc[coin, other_coin] <= second_smallest_corr:\n",
    "            second_smallest_corr = corr_matrix.loc[coin, other_coin]\n",
    "            second_min_corr_coin = other_coin\n",
    "    coins_in_a_triple.add(coin)\n",
    "    coins_in_a_triple.add(min_corr_coin)\n",
    "    coins_in_a_triple.add(second_min_corr_coin)\n",
    "    current_correlated_triples[coin] = pd.DataFrame(\n",
    "        0.0, columns=[min_corr_coin, second_min_corr_coin, 'alpha', 'residual'], index=[])\n",
    "\n",
    "\n",
    "def update_correlated_coins_to_max_corr(coin, corr_matrix, coins_in_a_triple, current_correlated_triples,\n",
    "                                        log_px_close_data, correlation_acceptance_threshold):\n",
    "    max_corr = -1.0\n",
    "    max_corr_coin = None\n",
    "    second_largest_corr = -1.0\n",
    "    second_largest_corr_coin = None\n",
    "    for other_coin in corr_matrix[coin][corr_matrix[coin] > correlation_acceptance_threshold].index:\n",
    "        if np.isnan(log_px_close_data[other_coin]).any():\n",
    "            continue\n",
    "        elif other_coin in coins_in_a_triple:\n",
    "            continue\n",
    "        elif other_coin != coin and corr_matrix.loc[coin, other_coin] >= max_corr:\n",
    "            second_largest_corr, max_corr = max_corr, corr_matrix.loc[coin, other_coin]\n",
    "            second_largest_corr_coin, max_corr_coin = max_corr_coin, other_coin\n",
    "        elif other_coin != coin and corr_matrix.loc[coin, other_coin] >= second_largest_corr:\n",
    "            second_largest_corr = corr_matrix.loc[coin, other_coin]\n",
    "            second_largest_corr_coin = other_coin\n",
    "    coins_in_a_triple.add(coin)\n",
    "    coins_in_a_triple.add(max_corr_coin)\n",
    "    coins_in_a_triple.add(second_largest_corr_coin)\n",
    "    current_correlated_triples[coin] = pd.DataFrame(\n",
    "        0.0, columns=[max_corr_coin, second_largest_corr_coin, 'alpha', 'residual'], index=[])\n",
    "\n",
    "\n",
    "def get_holdings_df(log_px_close_df, look_back_min_periods, look_back_window_size,\n",
    "                    correlation_acceptance_threshold, correlation_rejection_threshold,\n",
    "                    min_data_points_to_transact, z_score_min_threshold, z_score_max_threshold,\n",
    "                    corr_selection_method):\n",
    "    holdings_df = pd.DataFrame(0.0, columns = log_px_close_df.columns, index = log_px_close_df.index)\n",
    "    \n",
    "    # map from dependent coin to dataframe of successive regression coefficients and residuals\n",
    "    current_correlated_triples = dict()\n",
    "    coins_in_a_triple = set()\n",
    "    \n",
    "    for index in range(look_back_min_periods, len(holdings_df)):\n",
    "        window_start = max(index-look_back_window_size, 0)\n",
    "        log_px_close_window_df = log_px_close_df.iloc[window_start:index]\n",
    "        \n",
    "        time_index = log_px_close_df.index[index]\n",
    "        holdings_df.loc[time_index] = pd.Series(0.0, index=holdings_df.columns)    \n",
    "        \n",
    "        corr_matrix = log_px_close_window_df.corr()\n",
    "        newly_uncorrelated_keys = set()\n",
    "        for key_coin in current_correlated_triples:\n",
    "            value_coin_1 = current_correlated_triples[key_coin].columns[0]\n",
    "            value_coin_2 = current_correlated_triples[key_coin].columns[1]\n",
    "            \n",
    "            triple_list = [key_coin, value_coin_1, value_coin_2]\n",
    "            \n",
    "            if log_px_close_window_df[triple_list].iloc[-1].isnull().any():\n",
    "                newly_uncorrelated_keys.add(key_coin)\n",
    "            elif ((corr_matrix.loc[key_coin, value_coin_1] < correlation_rejection_threshold or \\\n",
    "                   corr_matrix.loc[key_coin, value_coin_2] < correlation_rejection_threshold)):\n",
    "                newly_uncorrelated_keys.add(key_coin)\n",
    "        \n",
    "        for coin in newly_uncorrelated_keys:\n",
    "            coins_in_a_triple.remove(coin)\n",
    "            coins_in_a_triple.remove(current_correlated_triples[coin].columns[0])\n",
    "            coins_in_a_triple.remove(current_correlated_triples[coin].columns[1])\n",
    "            \n",
    "            if coin in current_correlated_triples: # only the dependent coin will appear as a key\n",
    "                del current_correlated_triples[coin]\n",
    "            \n",
    "        for coin in holdings_df.columns:\n",
    "            if (coin not in coins_in_a_triple) and \\\n",
    "                has_high_corr_pair_available(coin, corr_matrix, coins_in_a_triple, log_px_close_window_df,\n",
    "                                             correlation_acceptance_threshold) and \\\n",
    "                corr_selection_method == CorrSelectionMethod.MAX_CORR:\n",
    "                \n",
    "                update_correlated_coins_to_max_corr(coin, corr_matrix, coins_in_a_triple,\n",
    "                                                    current_correlated_triples, log_px_close_window_df,\n",
    "                                                    correlation_acceptance_threshold)\n",
    "            elif (coin not in coins_in_a_triple) and \\\n",
    "                has_high_corr_pair_available(coin, corr_matrix, coins_in_a_triple, log_px_close_window_df,\n",
    "                                             correlation_acceptance_threshold) and \\\n",
    "                corr_selection_method == CorrSelectionMethod.MIN_CORR:\n",
    "                \n",
    "                update_correlated_coins_to_min_corr(coin, corr_matrix, coins_in_a_triple,\n",
    "                                                    current_correlated_triples, log_px_close_window_df,\n",
    "                                                    correlation_acceptance_threshold)\n",
    "        \n",
    "        ##################### SPLIT HERE TO REFACTOR INTO SUB-FUNCTIONS\n",
    "        \n",
    "        for coin in current_correlated_triples:\n",
    "            independent_coin_1 = current_correlated_triples[coin].columns[0]\n",
    "            independent_coin_2 = current_correlated_triples[coin].columns[1]\n",
    "            \n",
    "            model = sm.OLS(log_px_close_window_df[coin].iloc[:-1],\n",
    "                           sm.add_constant(\n",
    "                               log_px_close_window_df[[independent_coin_1, independent_coin_2]].iloc[:-1]))\n",
    "            \n",
    "            result = model.fit()\n",
    "            result_data = {\n",
    "                independent_coin_1: result.params[independent_coin_1],\n",
    "                independent_coin_2: result.params[independent_coin_2],\n",
    "                'alpha': result.params['const']\n",
    "            }\n",
    "            \n",
    "            estimate = model.predict(\n",
    "                result.params,\n",
    "                sm.add_constant(log_px_close_window_df[[independent_coin_1, independent_coin_2]]).iloc[-1]\n",
    "            )\n",
    "            result_data['residual'] = log_px_close_window_df[coin].iloc[-1] - estimate\n",
    "            result_series = pd.Series(result_data)\n",
    "            current_correlated_triples[coin].loc[index] = result_series\n",
    "            \n",
    "            if len(current_correlated_triples[coin]) >= min_data_points_to_transact:\n",
    "                z_score_look_back_len = min(look_back_window_size, len(current_correlated_triples[coin]))\n",
    "                look_back_coin_regression_data = current_correlated_triples[coin].iloc[(-z_score_look_back_len):]\n",
    "                residual_mean = look_back_coin_regression_data['residual'].mean()\n",
    "                residual_std = look_back_coin_regression_data['residual'].std()\n",
    "                z_score = (result_data['residual'] - residual_mean) / residual_std\n",
    "                \n",
    "                if z_score_min_threshold <= z_score <= z_score_max_threshold:\n",
    "                    holdings_df.loc[time_index, coin] = -1.0\n",
    "                    holdings_df.loc[time_index, independent_coin_1] = result_data[independent_coin_1]\n",
    "                    holdings_df.loc[time_index, independent_coin_2] = result_data[independent_coin_2]\n",
    "                elif -z_score_max_threshold <= z_score <= -z_score_min_threshold:\n",
    "                    holdings_df.loc[time_index, coin] = 1.0\n",
    "                    holdings_df.loc[time_index, independent_coin_1] = -result_data[independent_coin_1]\n",
    "                    holdings_df.loc[time_index, independent_coin_2] = -result_data[independent_coin_2]\n",
    "        holdings_df.loc[time_index] = holdings_df.loc[time_index] / holdings_df.loc[time_index].abs().sum()\n",
    "    \n",
    "    return holdings_df"
   ]
  },
  {
   "cell_type": "code",
   "execution_count": null,
   "id": "70ed83b4",
   "metadata": {},
   "outputs": [],
   "source": [
    "def get_net_return(strat_holdings, ret):\n",
    "    # assume that strat_holdings have already been shifted back in time to avoid look-ahead bias or that \n",
    "    # data does not depend on current time point\n",
    "    gross_ret = (strat_holdings * ret).sum(axis=1)\n",
    "    \n",
    "    turnover = (strat_holdings.fillna(0) - strat_holdings.shift().fillna(0)).abs().sum(axis=1)\n",
    "    tcost_bps = 20\n",
    "    return gross_ret.subtract(turnover * tcost_bps * 1e-4, fill_value=0)"
   ]
  },
  {
   "cell_type": "code",
   "execution_count": null,
   "id": "ee64cf24",
   "metadata": {},
   "outputs": [],
   "source": [
    "import matplotlib.pyplot as plt\n",
    "\n",
    "def get_net_returns_with_graph(px_close, holdings_df, plot_title):\n",
    "    market_returns = px_close / px_close.shift() - 1\n",
    "\n",
    "    net_returns_ser = get_net_return(holdings_df, market_returns)\n",
    "    fig = plt.subplots(figsize=(16, 5))\n",
    "    plt.title(plot_title)\n",
    "    plt.plot(net_returns_ser.cumsum())\n",
    "    \n",
    "    return net_returns_ser"
   ]
  },
  {
   "cell_type": "code",
   "execution_count": null,
   "id": "5161b0fb",
   "metadata": {},
   "outputs": [],
   "source": [
    "def get_sharpe_ratio_data(net_returns_ser):\n",
    "    sr_data = dict()\n",
    "    sr_data[\"total sr\"] = net_returns_ser.mean() / net_returns_ser.std() * np.sqrt(365 * 6)\n",
    "\n",
    "    out_sample_start = pd.to_datetime(\"2023-01-01 00:00:00\")\n",
    "    in_sample_end = out_sample_start - pd.Timedelta(hours=4)\n",
    "\n",
    "    sr_data[\"in-sample sr\"] = net_returns_ser.loc[:in_sample_end].mean() / net_returns_ser.loc[:in_sample_end].std() * np.sqrt(365 * 6)\n",
    "    sr_data[\"out-sample sr\"] = net_returns_ser.loc[out_sample_start:].mean() / net_returns_ser.loc[out_sample_start:].std() * np.sqrt(365 * 6)\n",
    "    sr_series = pd.Series(sr_data)\n",
    "    return sr_series"
   ]
  },
  {
   "cell_type": "code",
   "execution_count": null,
   "id": "4ece70c9",
   "metadata": {},
   "outputs": [],
   "source": [
    "index_selections = []\n",
    "\n",
    "for z_score_threshold_pair in ((1.0, 10.0), (1.5, 10.0), (2.0, 10.0), (2.5, 10.0), (3.0, 10.0)):\n",
    "    for correlation_threshold_pair in ((0.9, 0.8), (0.95, 0.90)):\n",
    "        for corr_selection_method in (CorrSelectionMethod.MAX_CORR, CorrSelectionMethod.MIN_CORR):\n",
    "            index_selections.append((z_score_threshold_pair, correlation_threshold_pair,\n",
    "                                     corr_selection_method))\n",
    "index_selections"
   ]
  },
  {
   "cell_type": "code",
   "execution_count": null,
   "id": "4b660b6c",
   "metadata": {},
   "outputs": [],
   "source": [
    "len(index_selections)"
   ]
  },
  {
   "cell_type": "markdown",
   "id": "e14ed732",
   "metadata": {},
   "source": [
    "###################################################################"
   ]
  },
  {
   "cell_type": "code",
   "execution_count": null,
   "id": "ec15ca94",
   "metadata": {},
   "outputs": [],
   "source": [
    "index_selection_index = 19 # update this before beginning on evening of Feb. 18, 2025"
   ]
  },
  {
   "cell_type": "code",
   "execution_count": null,
   "id": "b8d35e15",
   "metadata": {
    "scrolled": true
   },
   "outputs": [],
   "source": [
    "z_score_min_threshold = index_selections[index_selection_index][0][0]\n",
    "z_score_max_threshold = index_selections[index_selection_index][0][1]\n",
    "correlation_acceptance_threshold, correlation_rejection_threshold = index_selections[index_selection_index][1]\n",
    "corr_selection_method = index_selections[index_selection_index][2]\n",
    "\n",
    "min_data_points_to_transact = 10 * 6\n",
    "\n",
    "holdings_df = get_holdings_df(log_px_close, look_back_min_periods, look_back_window_size,\n",
    "                              correlation_acceptance_threshold, correlation_rejection_threshold,\n",
    "                              min_data_points_to_transact, z_score_min_threshold, z_score_max_threshold,\n",
    "                              corr_selection_method)\n",
    "plot_title = f\"Cumulative Returns: z_score_min_threshold = {z_score_min_threshold}, z_score_max_threshold = {z_score_max_threshold}, correlation_thresholds = {(correlation_acceptance_threshold, correlation_rejection_threshold)}, {'MIN CORR' if corr_selection_method == CorrSelectionMethod.MIN_CORR else 'MAX CORR'}\"\n",
    "net_returns_ser = get_net_returns_with_graph(px_close, holdings_df, plot_title)\n",
    "sharpe_ratio_ser = get_sharpe_ratio_data(net_returns_ser)"
   ]
  },
  {
   "cell_type": "code",
   "execution_count": null,
   "id": "5f702cd8",
   "metadata": {},
   "outputs": [],
   "source": [
    "net_returns_ser.cumsum().plot()"
   ]
  },
  {
   "cell_type": "code",
   "execution_count": null,
   "id": "c45d92f8",
   "metadata": {},
   "outputs": [],
   "source": [
    "sharpe_ratio_ser"
   ]
  },
  {
   "cell_type": "code",
   "execution_count": null,
   "id": "ef462f7d",
   "metadata": {},
   "outputs": [],
   "source": [
    "# outcome_df = pd.DataFrame(0.0, columns=[\"total sr\", \"in-sample sr\", \"out-sample sr\"],\n",
    "#                           index=pd.MultiIndex.from_tuples(\n",
    "#                               [], names=[\"z-score\", \"corr thresholds\", \"corr selection method\"]))\n",
    "\n",
    "outcome_df = pd.read_csv(\"./strat_09b_results.csv\",\n",
    "                         index_col=[\"z-score\", \"corr thresholds\", \"corr selection method\"])\n",
    "\n",
    "outcome_df"
   ]
  },
  {
   "cell_type": "code",
   "execution_count": null,
   "id": "eb6eb2a3",
   "metadata": {},
   "outputs": [],
   "source": [
    "raw_outcome_data = {\"total sr\": [], \"in-sample sr\": [], \"out-sample sr\": []}\n",
    "indices = []\n",
    "\n",
    "for (df_index, df_val) in outcome_df.iterrows():\n",
    "    dict_index = (tuple(map(float, df_index[0][1:-1].split(','))),\n",
    "                  tuple(map(float, df_index[1][1:-1].split(','))),\n",
    "                  df_index[2])\n",
    "    \n",
    "    indices.append(dict_index)\n",
    "    raw_outcome_data[\"total sr\"].append(df_val[\"total sr\"])\n",
    "    raw_outcome_data[\"in-sample sr\"].append(df_val[\"in-sample sr\"])\n",
    "    raw_outcome_data[\"out-sample sr\"].append(df_val[\"out-sample sr\"])\n",
    "\n",
    "raw_outcome_data"
   ]
  },
  {
   "cell_type": "code",
   "execution_count": null,
   "id": "e30e7728",
   "metadata": {},
   "outputs": [],
   "source": [
    "tuple_index = (index_selections[index_selection_index][0],\n",
    "               index_selections[index_selection_index][1],\n",
    "               index_selections[index_selection_index][2])\n",
    "\n",
    "raw_outcome_data[\"total sr\"].append(sharpe_ratio_ser[\"total sr\"])\n",
    "raw_outcome_data[\"in-sample sr\"].append(sharpe_ratio_ser[\"in-sample sr\"])\n",
    "raw_outcome_data[\"out-sample sr\"].append(sharpe_ratio_ser[\"out-sample sr\"])\n",
    "indices.append(tuple_index)\n",
    "\n",
    "outcome_df = pd.DataFrame(\n",
    "    raw_outcome_data,\n",
    "    index=pd.MultiIndex.from_tuples(indices, names=[\"z-score\", \"corr thresholds\", \"corr selection method\"])\n",
    ")\n",
    "# outcome_df.index.set_names([\"z-score\", \"corr thresholds\", \"corr selection method\"], inplace=True)\n",
    "outcome_df"
   ]
  },
  {
   "cell_type": "code",
   "execution_count": null,
   "id": "5c7bec60",
   "metadata": {},
   "outputs": [],
   "source": [
    "outcome_df.to_csv(\"./strat_09b_results.csv\")"
   ]
  },
  {
   "cell_type": "markdown",
   "id": "ce950eff",
   "metadata": {},
   "source": [
    "################################################################"
   ]
  },
  {
   "cell_type": "markdown",
   "id": "ffbe81aa",
   "metadata": {},
   "source": [
    "## Best Case With Correlation Acceptance Threshold Reduced To 0.85 And Correlation Rejection Threshold Reduced To 0.70"
   ]
  },
  {
   "cell_type": "code",
   "execution_count": null,
   "id": "221a6d14",
   "metadata": {},
   "outputs": [],
   "source": [
    "holdings_df = get_holdings_df(log_px_close, look_back_min_periods, look_back_window_size,\n",
    "                              0.85, 0.7,\n",
    "                              10*6, 3.0, 10.0,\n",
    "                              CorrSelectionMethod.MIN_CORR)\n",
    "net_returns_ser = get_net_returns_with_graph(px_close, holdings_df, plot_title)\n",
    "sharpe_ratio_ser = get_sharpe_ratio_data(net_returns_ser)"
   ]
  },
  {
   "cell_type": "code",
   "execution_count": null,
   "id": "563aaa02",
   "metadata": {},
   "outputs": [],
   "source": [
    "sharpe_ratio_ser"
   ]
  },
  {
   "cell_type": "code",
   "execution_count": null,
   "id": "76bae72f",
   "metadata": {},
   "outputs": [],
   "source": [
    "net_returns_ser.cumsum().plot()"
   ]
  },
  {
   "cell_type": "markdown",
   "id": "c0577484",
   "metadata": {},
   "source": [
    "###############################################################################"
   ]
  },
  {
   "cell_type": "markdown",
   "id": "168f5ed6",
   "metadata": {},
   "source": [
    "## Best Case With Min Periods To Transact Reduced From 10 * 6 To 5 * 6"
   ]
  },
  {
   "cell_type": "code",
   "execution_count": null,
   "id": "6d1899d8",
   "metadata": {},
   "outputs": [],
   "source": [
    "holdings_df = get_holdings_df(log_px_close, look_back_min_periods, look_back_window_size,\n",
    "                              0.90, 0.80,\n",
    "                              5*6, 3.0, 10.0,\n",
    "                              CorrSelectionMethod.MIN_CORR)\n",
    "net_returns_ser = get_net_returns_with_graph(px_close, holdings_df, plot_title)\n",
    "sharpe_ratio_ser = get_sharpe_ratio_data(net_returns_ser)"
   ]
  },
  {
   "cell_type": "code",
   "execution_count": null,
   "id": "9467c63f",
   "metadata": {},
   "outputs": [],
   "source": [
    "sharpe_ratio_ser"
   ]
  },
  {
   "cell_type": "code",
   "execution_count": null,
   "id": "26b29e68",
   "metadata": {},
   "outputs": [],
   "source": [
    "net_returns_ser.cumsum().plot()"
   ]
  },
  {
   "cell_type": "markdown",
   "id": "22e1c247",
   "metadata": {},
   "source": [
    "############################################################"
   ]
  },
  {
   "cell_type": "markdown",
   "id": "4c84045d",
   "metadata": {},
   "source": [
    "## Best Case With Min Periods To Transact Reduced To 5 * 6 And Correlation Thresholds Changes To (0.85, 0.7)"
   ]
  },
  {
   "cell_type": "code",
   "execution_count": null,
   "id": "049f8ef2",
   "metadata": {},
   "outputs": [],
   "source": [
    "holdings_df = get_holdings_df(log_px_close, look_back_min_periods, look_back_window_size,\n",
    "                              0.85, 0.70,\n",
    "                              5*6, 3.0, 10.0,\n",
    "                              CorrSelectionMethod.MIN_CORR)\n",
    "net_returns_ser = get_net_returns_with_graph(px_close, holdings_df, plot_title)\n",
    "sharpe_ratio_ser = get_sharpe_ratio_data(net_returns_ser)"
   ]
  },
  {
   "cell_type": "code",
   "execution_count": 52,
   "id": "410f6cb4",
   "metadata": {},
   "outputs": [
    {
     "data": {
      "text/plain": [
       "total sr         0.935912\n",
       "in-sample sr     0.355936\n",
       "out-sample sr    1.446474\n",
       "dtype: float64"
      ]
     },
     "execution_count": 52,
     "metadata": {},
     "output_type": "execute_result"
    }
   ],
   "source": [
    "sharpe_ratio_ser"
   ]
  },
  {
   "cell_type": "code",
   "execution_count": 53,
   "id": "d036ee7c",
   "metadata": {},
   "outputs": [
    {
     "data": {
      "text/plain": [
       "<Axes: xlabel='datetime'>"
      ]
     },
     "execution_count": 53,
     "metadata": {},
     "output_type": "execute_result"
    },
    {
     "data": {
      "image/png": "[encoded data removed]",
      "text/plain": [
       "<Figure size 640x480 with 1 Axes>"
      ]
     },
     "metadata": {},
     "output_type": "display_data"
    }
   ],
   "source": [
    "net_returns_ser.cumsum().plot()"
   ]
  },
  {
   "cell_type": "markdown",
   "id": "af5c8f30",
   "metadata": {},
   "source": [
    "#######################################################"
   ]
  },
  {
   "cell_type": "markdown",
   "id": "af120bb6",
   "metadata": {},
   "source": [
    "(2.0,10.0), (0.95,0.9), MIN_CORR - relatively stable results\n",
    "\n",
    "(2.5,10.0), (0.95,0.9), MAX_CORR - relatively stable results\n",
    "\n",
    "(2.5,10.0), (0.95,0.9), MIN_CORR - relatively stable results"
   ]
  },
  {
   "cell_type": "code",
   "execution_count": null,
   "id": "abe8f5f2",
   "metadata": {},
   "outputs": [],
   "source": [
    "def clear_outcome_df_and_write_to_csv():\n",
    "    outcome_df = pd.DataFrame(0.0, columns=[\"total sr\", \"in-sample sr\", \"out-sample sr\"],\n",
    "                          index=pd.MultiIndex.from_tuples(\n",
    "                              [], names=[\"z-score\", \"corr thresholds\", \"corr selection method\"]))\n",
    "    outcome_df.to_csv(\"./strat_09b_results.csv\")"
   ]
  },
  {
   "cell_type": "code",
   "execution_count": null,
   "id": "a696c241",
   "metadata": {},
   "outputs": [],
   "source": []
  }
 ],
 "metadata": {
  "kernelspec": {
   "display_name": "Python 3 (ipykernel)",
   "language": "python",
   "name": "python3"
  },
  "language_info": {
   "codemirror_mode": {
    "name": "ipython",
    "version": 3
   },
   "file_extension": ".py",
   "mimetype": "text/x-python",
   "name": "python",
   "nbconvert_exporter": "python",
   "pygments_lexer": "ipython3",
   "version": "3.11.5"
  }
 },
 "nbformat": 4,
 "nbformat_minor": 5
}
