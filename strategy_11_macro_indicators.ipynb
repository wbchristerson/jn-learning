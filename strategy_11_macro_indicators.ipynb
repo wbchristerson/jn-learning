{
 "cells": [
  {
   "cell_type": "markdown",
   "id": "d1791e8d",
   "metadata": {},
   "source": [
    "Use macro indicators for reversal or volatility / dislocation: implied volatility, realized volatility, return dispersion, pairwise correlation."
   ]
  },
  {
   "cell_type": "code",
   "execution_count": 1,
   "id": "fb7f7c64",
   "metadata": {},
   "outputs": [],
   "source": [
    "def get_outcome(px_close_df):\n",
    "    best_sharpe_ratios = dict()\n",
    "    for ticker in px_close_df.columns:\n",
    "        best_sharpe_ratios[ticker] = get_max_sharpe_ratio(ticker, px_close_df)\n",
    "    return best_sharpe_ratios"
   ]
  },
  {
   "cell_type": "code",
   "execution_count": null,
   "id": "c84f736e",
   "metadata": {},
   "outputs": [],
   "source": [
    "def get_max_sharpe_ratio(ticker, px_close_df):\n",
    "    max_sharpe_ratio = float('-inf')\n",
    "    witnessing_net_returns = None\n",
    "    witnessing_look_back_periods = None\n",
    "    witnessing_initial_cash = None\n",
    "    \n",
    "    for num_look_back_periods in (1, 2, 3, 4, 5, 6, 12, 18):\n",
    "        (buy_time, sell_time) = get_holding_window_for_ticker(\n",
    "            ticker, px_close_df, num_look_back_periods)\n",
    "        for initial_cash in (0.10, 0.50, 1.00, 5.00, 10.00, 50.00, 100.00):\n",
    "            strat_holdings_df = get_in_sample_trade_outcomes(ticker, px_close_df, buy_time, sell_time,\n",
    "                                                             initial_cash)\n",
    "            net_returns = get_net_returns(ticker, px_close_df, num_look_back_periods, initial_cash,\n",
    "                                          strat_holdings_df)\n",
    "            sharpe_ratio = net_returns.mean() / net_returns.std() * np.sqrt(365 * 6)\n",
    "            if sharpe_ratio > max_sharpe_ratio:\n",
    "                max_sharpe_ratio = sharpe_ratio\n",
    "                witnessing_net_returns = net_returns\n",
    "                witnessing_look_back_periods = num_look_back_periods\n",
    "                witnessing_initial_cash = initial_cash\n",
    "    \n",
    "    return {\n",
    "        \"max_sharpe_ratio\": max_sharpe_ratio,\n",
    "        \"witnessing_net_returns\": witnessing_net_returns,\n",
    "        \"witnessing_look_back_periods\": witnessing_look_back_periods,\n",
    "        \"witnessing_initial_cash\": witnessing_initial_cash,\n",
    "    }"
   ]
  },
  {
   "cell_type": "code",
   "execution_count": null,
   "id": "aff7f766",
   "metadata": {},
   "outputs": [],
   "source": [
    "trade_outcomes "
   ]
  }
 ],
 "metadata": {
  "kernelspec": {
   "display_name": "Python 3 (ipykernel)",
   "language": "python",
   "name": "python3"
  },
  "language_info": {
   "codemirror_mode": {
    "name": "ipython",
    "version": 3
   },
   "file_extension": ".py",
   "mimetype": "text/x-python",
   "name": "python",
   "nbconvert_exporter": "python",
   "pygments_lexer": "ipython3",
   "version": "3.11.5"
  }
 },
 "nbformat": 4,
 "nbformat_minor": 5
}
