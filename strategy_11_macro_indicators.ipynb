{
 "cells": [
  {
   "cell_type": "markdown",
   "id": "d1791e8d",
   "metadata": {},
   "source": [
    "Use macro indicators for reversal or volatility / dislocation: implied volatility, realized volatility, return dispersion, pairwise correlation."
   ]
  },
  {
   "cell_type": "code",
   "execution_count": null,
   "id": "498a1a1b",
   "metadata": {},
   "outputs": [],
   "source": [
    "def get_outcome_out_sample(px_close_df, best_in_sample_sharpe_ratios, strategy_weights):\n",
    "    period_start = px_close_df.index[len(px_close)//2+1]\n",
    "    period_end = px_close_df.index[-1]\n",
    "    ticker_to_sharpe_data = dict()\n",
    "    ticker_to_net_returns_data = dict()\n",
    "    for ticker in ['BTCUSDT','ETHUSDT']:\n",
    "        strat_holdings_df = get_sample_trade_outcomes(\n",
    "            ticker,\n",
    "            px_close_df,\n",
    "            best_in_sample_sharpe_ratios[ticker][\"witnessing_buy_time\"],\n",
    "            best_in_sample_sharpe_ratios[ticker][\"witnessing_sell_time\"],\n",
    "            best_in_sample_sharpe_ratios[ticker][\"witnessing_initial_cash\"],\n",
    "            period_start,\n",
    "            period_end)\n",
    "        net_returns = get_net_returns(ticker, px_close_df, strat_holdings_df)\n",
    "        sharpe_ratio = net_returns.mean() / net_returns.std() * np.sqrt(365 * 6)\n",
    "        \n",
    "        ticker_to_sharpe_data[ticker] = sharpe_ratio\n",
    "        ticker_to_net_returns_data[ticker] = net_returns\n",
    "        \n",
    "        print(f\"Outcome calculated for ticker {ticker}.\")\n",
    "    \n",
    "    all_net_returns_df = pd.DataFrame(ticker_to_net_returns_data)\n",
    "    combo = (all_net_returns_df * strategy_weights).sum(1)\n",
    "    return all_net_returns_df, combo"
   ]
  }
 ],
 "metadata": {
  "kernelspec": {
   "display_name": "Python 3 (ipykernel)",
   "language": "python",
   "name": "python3"
  },
  "language_info": {
   "codemirror_mode": {
    "name": "ipython",
    "version": 3
   },
   "file_extension": ".py",
   "mimetype": "text/x-python",
   "name": "python",
   "nbconvert_exporter": "python",
   "pygments_lexer": "ipython3",
   "version": "3.11.5"
  }
 },
 "nbformat": 4,
 "nbformat_minor": 5
}
