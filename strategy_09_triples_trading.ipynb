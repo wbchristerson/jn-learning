{
 "cells": [
  {
   "cell_type": "markdown",
   "id": "faa59af1",
   "metadata": {},
   "source": [
    "# Reversal Trading Using Correlated Triples"
   ]
  },
  {
   "cell_type": "markdown",
   "id": "3f1d3234",
   "metadata": {},
   "source": [
    "We seek triples of coins such that the behavior of one is modeled well by a function of the other two based on a linear regression model. We explore four combinations of two different variants of two distinct paradigms, listed below:\n",
    "\n",
    "1. Indicator variables and dependent variables to use - large price movements can add noise so we explore use of linear regression models with the following inputs and outputs:\n",
    "    - Inputs: prices of two coins, output: price of a third coin\n",
    "    - Inputs: log prices of two coins, output: log price of a third coin\n",
    "2. Selection of correlated coins - if two coins are highly correlated with a third coin, selecting them both as independent predictors of the third coin may be redundant so we also consider selecting independent coins which have the least correlation with the dependent coin (above a certain threshold):\n",
    "    - Above a certain threshold, for a given dependent coin, choose the highest correlated coins available as its predictors\n",
    "    - Above a certain threshold, for a given dependent coin, choose the lowest correlated coins available as its predictors.\n",
    "\n",
    "Regarding (2) above, one other possible approach worth exploring which is not explored in this notebook would be to pick the independent variables to not be highly correlated with each other rather than to the dependent coin.\n",
    "\n",
    "Using predictive models in these cases, when we observe a deviation in the dependent variable from what is predicted by our model, we predict reversal and long the under-priced asset(s) and short the over-priced asset(s).\n",
    "\n",
    "Regarding the first variant of (1), in the best case, when using prices as independent and dependent variables, the in-sample Sharpe Ratio (over the period from 2020-01-01 00:00:00 to 2022-12-31 20:00:00) is 0.26 with a corresponding out-sample Sharpe Ratio (over the period from 2023-01-01 00:00:00 to 2025-02-20 08:00:00) of 1.53, when using the lowest correlated coins to select.\n",
    "\n",
    "Regarding the second variant of (1), in the best case, when using log prices as independent and dependent variables, the in-sample Sharpe Ratio is 0.356 and the out-sample Sharpe Ratio is 1.45."
   ]
  },
  {
   "cell_type": "markdown",
   "id": "9f9a9afb",
   "metadata": {},
   "source": [
    "# Coin Universe"
   ]
  },
  {
   "cell_type": "code",
   "execution_count": null,
   "id": "fb756748",
   "metadata": {},
   "outputs": [],
   "source": []
  }
 ],
 "metadata": {
  "kernelspec": {
   "display_name": "Python 3 (ipykernel)",
   "language": "python",
   "name": "python3"
  },
  "language_info": {
   "codemirror_mode": {
    "name": "ipython",
    "version": 3
   },
   "file_extension": ".py",
   "mimetype": "text/x-python",
   "name": "python",
   "nbconvert_exporter": "python",
   "pygments_lexer": "ipython3",
   "version": "3.11.5"
  }
 },
 "nbformat": 4,
 "nbformat_minor": 5
}
