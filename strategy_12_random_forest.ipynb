{
 "cells": [
  {
   "cell_type": "markdown",
   "id": "eb42f567",
   "metadata": {},
   "source": [
    "Using xgboost or a random forest regressor to determine relevant features"
   ]
  },
  {
   "cell_type": "code",
   "execution_count": 52,
   "id": "9c6a47e2",
   "metadata": {},
   "outputs": [],
   "source": [
    "strat_univ = ['BTCUSDT','ETHUSDT','ADAUSDT','BNBUSDT','XRPUSDT','DOTUSDT','MATICUSDT']"
   ]
  },
  {
   "cell_type": "code",
   "execution_count": 53,
   "id": "38da6617",
   "metadata": {},
   "outputs": [],
   "source": [
    "from binance.client import Client as bnb_client\n",
    "from binance.client import BinanceAPIException\n",
    "from datetime import datetime\n",
    "import pandas as pd\n",
    "\n",
    "client = bnb_client(tld='US')\n",
    "\n",
    "def get_price_data_for_coin(coin, freq, start_date):\n",
    "    bn_data = client.get_historical_klines(coin, freq, start_date)\n",
    "    columns = ['open_time','open','high','low','close','volume','close_time','quote_volume',\n",
    "        'num_trades','taker_base_volume','taker_quote_volume','ignore']\n",
    "\n",
    "    bn_data = pd.DataFrame(bn_data, columns=columns)\n",
    "    bn_data['open_time'] = bn_data['open_time'].map(lambda x: datetime.utcfromtimestamp(x / 1000))\n",
    "    bn_data['close_time'] = bn_data['close_time'].map(lambda x: datetime.utcfromtimestamp(x / 1000))\n",
    "    return bn_data\n",
    "\n",
    "\n",
    "def get_price_data_for_universe(freq, start_date):\n",
    "    px_data = {}\n",
    "\n",
    "    for coin in strat_univ:\n",
    "        try:\n",
    "            px_data[coin] = get_price_data_for_coin(coin, freq, start_date).set_index('open_time')\n",
    "            print(f\"Downloaded data for {coin}.\")\n",
    "        except BinanceAPIException:\n",
    "            print(f\"Couldn't load data for {coin}.\")\n",
    "    \n",
    "    return px_data"
   ]
  },
  {
   "cell_type": "code",
   "execution_count": 54,
   "id": "b80a8ee1",
   "metadata": {},
   "outputs": [],
   "source": [
    "data_freq = '4h'\n",
    "look_back_window_size = 30 * 6\n",
    "look_back_min_periods = 10 * 6\n",
    "start_datetime = '2020-01-01 00:00:00'"
   ]
  },
  {
   "cell_type": "code",
   "execution_count": 55,
   "id": "cb7980c9",
   "metadata": {},
   "outputs": [
    {
     "name": "stdout",
     "output_type": "stream",
     "text": [
      "Downloaded data for BTCUSDT.\n",
      "Downloaded data for ETHUSDT.\n",
      "Downloaded data for ADAUSDT.\n",
      "Downloaded data for BNBUSDT.\n",
      "Downloaded data for XRPUSDT.\n",
      "Downloaded data for DOTUSDT.\n",
      "Downloaded data for MATICUSDT.\n"
     ]
    }
   ],
   "source": [
    "px_data = get_price_data_for_universe(data_freq, start_datetime)"
   ]
  },
  {
   "cell_type": "code",
   "execution_count": 56,
   "id": "36c68b96",
   "metadata": {},
   "outputs": [],
   "source": [
    "import numpy as np\n",
    "\n",
    "def get_signals(price_volume_df):\n",
    "    coin_signals = pd.DataFrame(0.0, columns = [], index=price_volume_df.index)\n",
    "\n",
    "    coin_signals[\"price-1\"] = price_volume_df[\"close\"].shift()\n",
    "    coin_signals[\"price-2\"] = price_volume_df[\"close\"].shift(2)\n",
    "    coin_signals[\"log price-1\"] = np.log(coin_signals[\"price-1\"])\n",
    "    coin_signals[\"log price-2\"] = np.log(coin_signals[\"price-2\"])\n",
    "    coin_signals[\"price-1 - price-2\"] = coin_signals[\"price-1\"] - coin_signals[\"price-2\"]\n",
    "    coin_signals[\"price change rate\"] = coin_signals[\"price-1\"] / coin_signals[\"price-2\"] - 1\n",
    "    coin_signals[\"log price quotient\"] = np.log(coin_signals[\"price-1\"] / coin_signals[\"price-2\"])\n",
    "\n",
    "    coin_signals[\"volume-1\"] = price_volume_df[\"volume\"].shift()\n",
    "    coin_signals.loc[coin_signals[\"volume-1\"] == 0,\"volume-1\"] = 0.001\n",
    "    coin_signals[\"volume-2\"] = price_volume_df[\"volume\"].shift(2)\n",
    "    coin_signals.loc[coin_signals[\"volume-2\"] == 0,\"volume-2\"] = 0.001\n",
    "    coin_signals[\"log volume-1\"] = np.log(coin_signals[\"volume-1\"])\n",
    "    #coin_signals[\"log volume-1\"][coin_signals[\"log volume-1\"] == float('-inf')] = 0.001\n",
    "    coin_signals[\"log volume-2\"] = np.log(coin_signals[\"volume-2\"])\n",
    "    #coin_signals[\"log volume-2\"][coin_signals[\"log volume-2\"] == float('-inf')] = 0.001\n",
    "    coin_signals[\"volume-1 - volume-2\"] = coin_signals[\"volume-1\"] - coin_signals[\"volume-2\"]\n",
    "    coin_signals[\"volume change rate\"] = coin_signals[\"volume-1\"] / coin_signals[\"volume-2\"] - 1\n",
    "    coin_signals[\"log volume quotient\"] = np.log(coin_signals[\"volume-1\"] / coin_signals[\"volume-2\"])\n",
    "    #coin_signals[\"log volume quotient\"][coin_signals[\"log volume quotient\"] == float('-inf')] = -10.0\n",
    "\n",
    "    price_columns = [\n",
    "        \"price-1\", \"price-2\", \"log price-1\", \"log price-2\", \"price-1 - price-2\", \"price change rate\",\n",
    "        \"log price quotient\"]\n",
    "\n",
    "    volume_columns = [\n",
    "        \"volume-1\", \"volume-2\", \"log volume-1\", \"log volume-2\", \"volume-1 - volume-2\", \"volume change rate\",\n",
    "        \"log volume quotient\"\n",
    "    ]\n",
    "\n",
    "    for p_col in price_columns:\n",
    "        for v_col in volume_columns:\n",
    "            coin_signals[p_col + \" x \" + v_col] = coin_signals[p_col] * coin_signals[v_col]\n",
    "    \n",
    "    return coin_signals\n",
    "\n",
    "\n",
    "def get_signals_for_all_coins(px_data):\n",
    "    coin_to_signals = dict()\n",
    "\n",
    "    for coin in px_data:\n",
    "        price_volume_df = px_data[coin][[\"close\", \"volume\"]].astype(float)\n",
    "        coin_to_signals[coin] = get_signals(price_volume_df)\n",
    "    \n",
    "    return coin_to_signals"
   ]
  },
  {
   "cell_type": "code",
   "execution_count": 57,
   "id": "9d3bcfcb",
   "metadata": {},
   "outputs": [
    {
     "data": {
      "text/plain": [
       "open_time\n",
       "2020-01-01 00:00:00     7230.71000000\n",
       "2020-01-01 04:00:00     7205.50000000\n",
       "2020-01-01 08:00:00     7195.80000000\n",
       "2020-01-01 12:00:00     7233.02000000\n",
       "2020-01-01 16:00:00     7223.72000000\n",
       "                            ...      \n",
       "2025-03-07 20:00:00    86791.40000000\n",
       "2025-03-08 00:00:00    86021.48000000\n",
       "2025-03-08 04:00:00    86221.43000000\n",
       "2025-03-08 08:00:00    85986.20000000\n",
       "2025-03-08 12:00:00    86288.98000000\n",
       "Name: close, Length: 11356, dtype: object"
      ]
     },
     "execution_count": 57,
     "metadata": {},
     "output_type": "execute_result"
    }
   ],
   "source": [
    "px_data['BTCUSDT']['close']"
   ]
  },
  {
   "cell_type": "code",
   "execution_count": 58,
   "id": "675aebe2",
   "metadata": {},
   "outputs": [
    {
     "data": {
      "text/plain": [
       "Timestamp('2022-08-05 04:00:00')"
      ]
     },
     "execution_count": 58,
     "metadata": {},
     "output_type": "execute_result"
    }
   ],
   "source": [
    "m = len(px_data['BTCUSDT'].index)\n",
    "px_data['BTCUSDT'].index[int(m * 0.5)]\n"
   ]
  },
  {
   "cell_type": "code",
   "execution_count": 59,
   "id": "eb3b6268",
   "metadata": {},
   "outputs": [
    {
     "name": "stdout",
     "output_type": "stream",
     "text": [
      "Model fitted for BTCUSDT.\n",
      "Model fitted for ETHUSDT.\n",
      "Model fitted for ADAUSDT.\n",
      "Model fitted for BNBUSDT.\n",
      "Model fitted for XRPUSDT.\n",
      "Model fitted for DOTUSDT.\n",
      "Model fitted for MATICUSDT.\n"
     ]
    }
   ],
   "source": [
    "from sklearn.ensemble import RandomForestRegressor\n",
    "\n",
    "in_sample_end_datetime = pd.to_datetime('2022-08-05 04:00:00')\n",
    "\n",
    "coin_to_signals = get_signals_for_all_coins(px_data)\n",
    "coin_to_rfr_model = dict()\n",
    "\n",
    "for coin, signals in coin_to_signals.items():\n",
    "    rfr_model = RandomForestRegressor(random_state=836)\n",
    "    \n",
    "    in_sample_signals = signals.iloc[2:].loc[:in_sample_end_datetime]\n",
    "    in_sample_close_price = px_data[coin]['close'].iloc[2:].loc[:in_sample_end_datetime]\n",
    "    \n",
    "    rfr_model.fit(in_sample_signals, in_sample_close_price)\n",
    "    coin_to_rfr_model[coin] = rfr_model\n",
    "    print(f\"Model fitted for {coin}.\")"
   ]
  },
  {
   "cell_type": "code",
   "execution_count": 60,
   "id": "4651735d",
   "metadata": {},
   "outputs": [
    {
     "data": {
      "text/plain": [
       "Index([], dtype='object')"
      ]
     },
     "execution_count": 60,
     "metadata": {},
     "output_type": "execute_result"
    }
   ],
   "source": [
    "coin_to_signals['BNBUSDT'].columns[coin_to_signals['BNBUSDT'].iloc[2:].isna().any()]"
   ]
  },
  {
   "cell_type": "code",
   "execution_count": 61,
   "id": "ec663bf2",
   "metadata": {},
   "outputs": [
    {
     "data": {
      "text/html": [
       "<div>\n",
       "<style scoped>\n",
       "    .dataframe tbody tr th:only-of-type {\n",
       "        vertical-align: middle;\n",
       "    }\n",
       "\n",
       "    .dataframe tbody tr th {\n",
       "        vertical-align: top;\n",
       "    }\n",
       "\n",
       "    .dataframe thead th {\n",
       "        text-align: right;\n",
       "    }\n",
       "</style>\n",
       "<table border=\"1\" class=\"dataframe\">\n",
       "  <thead>\n",
       "    <tr style=\"text-align: right;\">\n",
       "      <th></th>\n",
       "      <th>price-1</th>\n",
       "      <th>price-2</th>\n",
       "      <th>log price-1</th>\n",
       "      <th>log price-2</th>\n",
       "      <th>price-1 - price-2</th>\n",
       "      <th>price change rate</th>\n",
       "      <th>log price quotient</th>\n",
       "      <th>volume-1</th>\n",
       "      <th>volume-2</th>\n",
       "      <th>log volume-1</th>\n",
       "      <th>...</th>\n",
       "      <th>price change rate x volume-1 - volume-2</th>\n",
       "      <th>price change rate x volume change rate</th>\n",
       "      <th>price change rate x log volume quotient</th>\n",
       "      <th>log price quotient x volume-1</th>\n",
       "      <th>log price quotient x volume-2</th>\n",
       "      <th>log price quotient x log volume-1</th>\n",
       "      <th>log price quotient x log volume-2</th>\n",
       "      <th>log price quotient x volume-1 - volume-2</th>\n",
       "      <th>log price quotient x volume change rate</th>\n",
       "      <th>log price quotient x log volume quotient</th>\n",
       "    </tr>\n",
       "    <tr>\n",
       "      <th>open_time</th>\n",
       "      <th></th>\n",
       "      <th></th>\n",
       "      <th></th>\n",
       "      <th></th>\n",
       "      <th></th>\n",
       "      <th></th>\n",
       "      <th></th>\n",
       "      <th></th>\n",
       "      <th></th>\n",
       "      <th></th>\n",
       "      <th></th>\n",
       "      <th></th>\n",
       "      <th></th>\n",
       "      <th></th>\n",
       "      <th></th>\n",
       "      <th></th>\n",
       "      <th></th>\n",
       "      <th></th>\n",
       "      <th></th>\n",
       "      <th></th>\n",
       "      <th></th>\n",
       "    </tr>\n",
       "  </thead>\n",
       "  <tbody>\n",
       "  </tbody>\n",
       "</table>\n",
       "<p>0 rows × 63 columns</p>\n",
       "</div>"
      ],
      "text/plain": [
       "Empty DataFrame\n",
       "Columns: [price-1, price-2, log price-1, log price-2, price-1 - price-2, price change rate, log price quotient, volume-1, volume-2, log volume-1, log volume-2, volume-1 - volume-2, volume change rate, log volume quotient, price-1 x volume-1, price-1 x volume-2, price-1 x log volume-1, price-1 x log volume-2, price-1 x volume-1 - volume-2, price-1 x volume change rate, price-1 x log volume quotient, price-2 x volume-1, price-2 x volume-2, price-2 x log volume-1, price-2 x log volume-2, price-2 x volume-1 - volume-2, price-2 x volume change rate, price-2 x log volume quotient, log price-1 x volume-1, log price-1 x volume-2, log price-1 x log volume-1, log price-1 x log volume-2, log price-1 x volume-1 - volume-2, log price-1 x volume change rate, log price-1 x log volume quotient, log price-2 x volume-1, log price-2 x volume-2, log price-2 x log volume-1, log price-2 x log volume-2, log price-2 x volume-1 - volume-2, log price-2 x volume change rate, log price-2 x log volume quotient, price-1 - price-2 x volume-1, price-1 - price-2 x volume-2, price-1 - price-2 x log volume-1, price-1 - price-2 x log volume-2, price-1 - price-2 x volume-1 - volume-2, price-1 - price-2 x volume change rate, price-1 - price-2 x log volume quotient, price change rate x volume-1, price change rate x volume-2, price change rate x log volume-1, price change rate x log volume-2, price change rate x volume-1 - volume-2, price change rate x volume change rate, price change rate x log volume quotient, log price quotient x volume-1, log price quotient x volume-2, log price quotient x log volume-1, log price quotient x log volume-2, log price quotient x volume-1 - volume-2, log price quotient x volume change rate, log price quotient x log volume quotient]\n",
       "Index: []\n",
       "\n",
       "[0 rows x 63 columns]"
      ]
     },
     "execution_count": 61,
     "metadata": {},
     "output_type": "execute_result"
    }
   ],
   "source": [
    "coin_to_signals['BNBUSDT'].iloc[2:][coin_to_signals['BNBUSDT'].iloc[2:]['price-1 - price-2 x log volume-1'].isna()]"
   ]
  },
  {
   "cell_type": "code",
   "execution_count": 62,
   "id": "7accba76",
   "metadata": {},
   "outputs": [
    {
     "data": {
      "text/plain": [
       "-13.470961793823383"
      ]
     },
     "execution_count": 62,
     "metadata": {},
     "output_type": "execute_result"
    }
   ],
   "source": [
    "coin_to_signals['BNBUSDT'][\"log volume quotient\"][coin_to_signals['BNBUSDT'][\"log volume quotient\"] != float('-inf')].min()"
   ]
  },
  {
   "cell_type": "code",
   "execution_count": 63,
   "id": "6766a7fa",
   "metadata": {},
   "outputs": [
    {
     "data": {
      "text/plain": [
       "0.001"
      ]
     },
     "execution_count": 63,
     "metadata": {},
     "output_type": "execute_result"
    }
   ],
   "source": [
    "coin_to_signals['BNBUSDT'][\"volume-1\"][coin_to_signals['BNBUSDT'][\"volume-1\"] != 0.0].min()"
   ]
  },
  {
   "cell_type": "code",
   "execution_count": 65,
   "id": "adcf1389",
   "metadata": {},
   "outputs": [
    {
     "data": {
      "text/html": [
       "<style>#sk-container-id-1 {\n",
       "  /* Definition of color scheme common for light and dark mode */\n",
       "  --sklearn-color-text: black;\n",
       "  --sklearn-color-line: gray;\n",
       "  /* Definition of color scheme for unfitted estimators */\n",
       "  --sklearn-color-unfitted-level-0: #fff5e6;\n",
       "  --sklearn-color-unfitted-level-1: #f6e4d2;\n",
       "  --sklearn-color-unfitted-level-2: #ffe0b3;\n",
       "  --sklearn-color-unfitted-level-3: chocolate;\n",
       "  /* Definition of color scheme for fitted estimators */\n",
       "  --sklearn-color-fitted-level-0: #f0f8ff;\n",
       "  --sklearn-color-fitted-level-1: #d4ebff;\n",
       "  --sklearn-color-fitted-level-2: #b3dbfd;\n",
       "  --sklearn-color-fitted-level-3: cornflowerblue;\n",
       "\n",
       "  /* Specific color for light theme */\n",
       "  --sklearn-color-text-on-default-background: var(--sg-text-color, var(--theme-code-foreground, var(--jp-content-font-color1, black)));\n",
       "  --sklearn-color-background: var(--sg-background-color, var(--theme-background, var(--jp-layout-color0, white)));\n",
       "  --sklearn-color-border-box: var(--sg-text-color, var(--theme-code-foreground, var(--jp-content-font-color1, black)));\n",
       "  --sklearn-color-icon: #696969;\n",
       "\n",
       "  @media (prefers-color-scheme: dark) {\n",
       "    /* Redefinition of color scheme for dark theme */\n",
       "    --sklearn-color-text-on-default-background: var(--sg-text-color, var(--theme-code-foreground, var(--jp-content-font-color1, white)));\n",
       "    --sklearn-color-background: var(--sg-background-color, var(--theme-background, var(--jp-layout-color0, #111)));\n",
       "    --sklearn-color-border-box: var(--sg-text-color, var(--theme-code-foreground, var(--jp-content-font-color1, white)));\n",
       "    --sklearn-color-icon: #878787;\n",
       "  }\n",
       "}\n",
       "\n",
       "#sk-container-id-1 {\n",
       "  color: var(--sklearn-color-text);\n",
       "}\n",
       "\n",
       "#sk-container-id-1 pre {\n",
       "  padding: 0;\n",
       "}\n",
       "\n",
       "#sk-container-id-1 input.sk-hidden--visually {\n",
       "  border: 0;\n",
       "  clip: rect(1px 1px 1px 1px);\n",
       "  clip: rect(1px, 1px, 1px, 1px);\n",
       "  height: 1px;\n",
       "  margin: -1px;\n",
       "  overflow: hidden;\n",
       "  padding: 0;\n",
       "  position: absolute;\n",
       "  width: 1px;\n",
       "}\n",
       "\n",
       "#sk-container-id-1 div.sk-dashed-wrapped {\n",
       "  border: 1px dashed var(--sklearn-color-line);\n",
       "  margin: 0 0.4em 0.5em 0.4em;\n",
       "  box-sizing: border-box;\n",
       "  padding-bottom: 0.4em;\n",
       "  background-color: var(--sklearn-color-background);\n",
       "}\n",
       "\n",
       "#sk-container-id-1 div.sk-container {\n",
       "  /* jupyter's `normalize.less` sets `[hidden] { display: none; }`\n",
       "     but bootstrap.min.css set `[hidden] { display: none !important; }`\n",
       "     so we also need the `!important` here to be able to override the\n",
       "     default hidden behavior on the sphinx rendered scikit-learn.org.\n",
       "     See: https://github.com/scikit-learn/scikit-learn/issues/21755 */\n",
       "  display: inline-block !important;\n",
       "  position: relative;\n",
       "}\n",
       "\n",
       "#sk-container-id-1 div.sk-text-repr-fallback {\n",
       "  display: none;\n",
       "}\n",
       "\n",
       "div.sk-parallel-item,\n",
       "div.sk-serial,\n",
       "div.sk-item {\n",
       "  /* draw centered vertical line to link estimators */\n",
       "  background-image: linear-gradient(var(--sklearn-color-text-on-default-background), var(--sklearn-color-text-on-default-background));\n",
       "  background-size: 2px 100%;\n",
       "  background-repeat: no-repeat;\n",
       "  background-position: center center;\n",
       "}\n",
       "\n",
       "/* Parallel-specific style estimator block */\n",
       "\n",
       "#sk-container-id-1 div.sk-parallel-item::after {\n",
       "  content: \"\";\n",
       "  width: 100%;\n",
       "  border-bottom: 2px solid var(--sklearn-color-text-on-default-background);\n",
       "  flex-grow: 1;\n",
       "}\n",
       "\n",
       "#sk-container-id-1 div.sk-parallel {\n",
       "  display: flex;\n",
       "  align-items: stretch;\n",
       "  justify-content: center;\n",
       "  background-color: var(--sklearn-color-background);\n",
       "  position: relative;\n",
       "}\n",
       "\n",
       "#sk-container-id-1 div.sk-parallel-item {\n",
       "  display: flex;\n",
       "  flex-direction: column;\n",
       "}\n",
       "\n",
       "#sk-container-id-1 div.sk-parallel-item:first-child::after {\n",
       "  align-self: flex-end;\n",
       "  width: 50%;\n",
       "}\n",
       "\n",
       "#sk-container-id-1 div.sk-parallel-item:last-child::after {\n",
       "  align-self: flex-start;\n",
       "  width: 50%;\n",
       "}\n",
       "\n",
       "#sk-container-id-1 div.sk-parallel-item:only-child::after {\n",
       "  width: 0;\n",
       "}\n",
       "\n",
       "/* Serial-specific style estimator block */\n",
       "\n",
       "#sk-container-id-1 div.sk-serial {\n",
       "  display: flex;\n",
       "  flex-direction: column;\n",
       "  align-items: center;\n",
       "  background-color: var(--sklearn-color-background);\n",
       "  padding-right: 1em;\n",
       "  padding-left: 1em;\n",
       "}\n",
       "\n",
       "\n",
       "/* Toggleable style: style used for estimator/Pipeline/ColumnTransformer box that is\n",
       "clickable and can be expanded/collapsed.\n",
       "- Pipeline and ColumnTransformer use this feature and define the default style\n",
       "- Estimators will overwrite some part of the style using the `sk-estimator` class\n",
       "*/\n",
       "\n",
       "/* Pipeline and ColumnTransformer style (default) */\n",
       "\n",
       "#sk-container-id-1 div.sk-toggleable {\n",
       "  /* Default theme specific background. It is overwritten whether we have a\n",
       "  specific estimator or a Pipeline/ColumnTransformer */\n",
       "  background-color: var(--sklearn-color-background);\n",
       "}\n",
       "\n",
       "/* Toggleable label */\n",
       "#sk-container-id-1 label.sk-toggleable__label {\n",
       "  cursor: pointer;\n",
       "  display: block;\n",
       "  width: 100%;\n",
       "  margin-bottom: 0;\n",
       "  padding: 0.5em;\n",
       "  box-sizing: border-box;\n",
       "  text-align: center;\n",
       "}\n",
       "\n",
       "#sk-container-id-1 label.sk-toggleable__label-arrow:before {\n",
       "  /* Arrow on the left of the label */\n",
       "  content: \"▸\";\n",
       "  float: left;\n",
       "  margin-right: 0.25em;\n",
       "  color: var(--sklearn-color-icon);\n",
       "}\n",
       "\n",
       "#sk-container-id-1 label.sk-toggleable__label-arrow:hover:before {\n",
       "  color: var(--sklearn-color-text);\n",
       "}\n",
       "\n",
       "/* Toggleable content - dropdown */\n",
       "\n",
       "#sk-container-id-1 div.sk-toggleable__content {\n",
       "  max-height: 0;\n",
       "  max-width: 0;\n",
       "  overflow: hidden;\n",
       "  text-align: left;\n",
       "  /* unfitted */\n",
       "  background-color: var(--sklearn-color-unfitted-level-0);\n",
       "}\n",
       "\n",
       "#sk-container-id-1 div.sk-toggleable__content.fitted {\n",
       "  /* fitted */\n",
       "  background-color: var(--sklearn-color-fitted-level-0);\n",
       "}\n",
       "\n",
       "#sk-container-id-1 div.sk-toggleable__content pre {\n",
       "  margin: 0.2em;\n",
       "  border-radius: 0.25em;\n",
       "  color: var(--sklearn-color-text);\n",
       "  /* unfitted */\n",
       "  background-color: var(--sklearn-color-unfitted-level-0);\n",
       "}\n",
       "\n",
       "#sk-container-id-1 div.sk-toggleable__content.fitted pre {\n",
       "  /* unfitted */\n",
       "  background-color: var(--sklearn-color-fitted-level-0);\n",
       "}\n",
       "\n",
       "#sk-container-id-1 input.sk-toggleable__control:checked~div.sk-toggleable__content {\n",
       "  /* Expand drop-down */\n",
       "  max-height: 200px;\n",
       "  max-width: 100%;\n",
       "  overflow: auto;\n",
       "}\n",
       "\n",
       "#sk-container-id-1 input.sk-toggleable__control:checked~label.sk-toggleable__label-arrow:before {\n",
       "  content: \"▾\";\n",
       "}\n",
       "\n",
       "/* Pipeline/ColumnTransformer-specific style */\n",
       "\n",
       "#sk-container-id-1 div.sk-label input.sk-toggleable__control:checked~label.sk-toggleable__label {\n",
       "  color: var(--sklearn-color-text);\n",
       "  background-color: var(--sklearn-color-unfitted-level-2);\n",
       "}\n",
       "\n",
       "#sk-container-id-1 div.sk-label.fitted input.sk-toggleable__control:checked~label.sk-toggleable__label {\n",
       "  background-color: var(--sklearn-color-fitted-level-2);\n",
       "}\n",
       "\n",
       "/* Estimator-specific style */\n",
       "\n",
       "/* Colorize estimator box */\n",
       "#sk-container-id-1 div.sk-estimator input.sk-toggleable__control:checked~label.sk-toggleable__label {\n",
       "  /* unfitted */\n",
       "  background-color: var(--sklearn-color-unfitted-level-2);\n",
       "}\n",
       "\n",
       "#sk-container-id-1 div.sk-estimator.fitted input.sk-toggleable__control:checked~label.sk-toggleable__label {\n",
       "  /* fitted */\n",
       "  background-color: var(--sklearn-color-fitted-level-2);\n",
       "}\n",
       "\n",
       "#sk-container-id-1 div.sk-label label.sk-toggleable__label,\n",
       "#sk-container-id-1 div.sk-label label {\n",
       "  /* The background is the default theme color */\n",
       "  color: var(--sklearn-color-text-on-default-background);\n",
       "}\n",
       "\n",
       "/* On hover, darken the color of the background */\n",
       "#sk-container-id-1 div.sk-label:hover label.sk-toggleable__label {\n",
       "  color: var(--sklearn-color-text);\n",
       "  background-color: var(--sklearn-color-unfitted-level-2);\n",
       "}\n",
       "\n",
       "/* Label box, darken color on hover, fitted */\n",
       "#sk-container-id-1 div.sk-label.fitted:hover label.sk-toggleable__label.fitted {\n",
       "  color: var(--sklearn-color-text);\n",
       "  background-color: var(--sklearn-color-fitted-level-2);\n",
       "}\n",
       "\n",
       "/* Estimator label */\n",
       "\n",
       "#sk-container-id-1 div.sk-label label {\n",
       "  font-family: monospace;\n",
       "  font-weight: bold;\n",
       "  display: inline-block;\n",
       "  line-height: 1.2em;\n",
       "}\n",
       "\n",
       "#sk-container-id-1 div.sk-label-container {\n",
       "  text-align: center;\n",
       "}\n",
       "\n",
       "/* Estimator-specific */\n",
       "#sk-container-id-1 div.sk-estimator {\n",
       "  font-family: monospace;\n",
       "  border: 1px dotted var(--sklearn-color-border-box);\n",
       "  border-radius: 0.25em;\n",
       "  box-sizing: border-box;\n",
       "  margin-bottom: 0.5em;\n",
       "  /* unfitted */\n",
       "  background-color: var(--sklearn-color-unfitted-level-0);\n",
       "}\n",
       "\n",
       "#sk-container-id-1 div.sk-estimator.fitted {\n",
       "  /* fitted */\n",
       "  background-color: var(--sklearn-color-fitted-level-0);\n",
       "}\n",
       "\n",
       "/* on hover */\n",
       "#sk-container-id-1 div.sk-estimator:hover {\n",
       "  /* unfitted */\n",
       "  background-color: var(--sklearn-color-unfitted-level-2);\n",
       "}\n",
       "\n",
       "#sk-container-id-1 div.sk-estimator.fitted:hover {\n",
       "  /* fitted */\n",
       "  background-color: var(--sklearn-color-fitted-level-2);\n",
       "}\n",
       "\n",
       "/* Specification for estimator info (e.g. \"i\" and \"?\") */\n",
       "\n",
       "/* Common style for \"i\" and \"?\" */\n",
       "\n",
       ".sk-estimator-doc-link,\n",
       "a:link.sk-estimator-doc-link,\n",
       "a:visited.sk-estimator-doc-link {\n",
       "  float: right;\n",
       "  font-size: smaller;\n",
       "  line-height: 1em;\n",
       "  font-family: monospace;\n",
       "  background-color: var(--sklearn-color-background);\n",
       "  border-radius: 1em;\n",
       "  height: 1em;\n",
       "  width: 1em;\n",
       "  text-decoration: none !important;\n",
       "  margin-left: 1ex;\n",
       "  /* unfitted */\n",
       "  border: var(--sklearn-color-unfitted-level-1) 1pt solid;\n",
       "  color: var(--sklearn-color-unfitted-level-1);\n",
       "}\n",
       "\n",
       ".sk-estimator-doc-link.fitted,\n",
       "a:link.sk-estimator-doc-link.fitted,\n",
       "a:visited.sk-estimator-doc-link.fitted {\n",
       "  /* fitted */\n",
       "  border: var(--sklearn-color-fitted-level-1) 1pt solid;\n",
       "  color: var(--sklearn-color-fitted-level-1);\n",
       "}\n",
       "\n",
       "/* On hover */\n",
       "div.sk-estimator:hover .sk-estimator-doc-link:hover,\n",
       ".sk-estimator-doc-link:hover,\n",
       "div.sk-label-container:hover .sk-estimator-doc-link:hover,\n",
       ".sk-estimator-doc-link:hover {\n",
       "  /* unfitted */\n",
       "  background-color: var(--sklearn-color-unfitted-level-3);\n",
       "  color: var(--sklearn-color-background);\n",
       "  text-decoration: none;\n",
       "}\n",
       "\n",
       "div.sk-estimator.fitted:hover .sk-estimator-doc-link.fitted:hover,\n",
       ".sk-estimator-doc-link.fitted:hover,\n",
       "div.sk-label-container:hover .sk-estimator-doc-link.fitted:hover,\n",
       ".sk-estimator-doc-link.fitted:hover {\n",
       "  /* fitted */\n",
       "  background-color: var(--sklearn-color-fitted-level-3);\n",
       "  color: var(--sklearn-color-background);\n",
       "  text-decoration: none;\n",
       "}\n",
       "\n",
       "/* Span, style for the box shown on hovering the info icon */\n",
       ".sk-estimator-doc-link span {\n",
       "  display: none;\n",
       "  z-index: 9999;\n",
       "  position: relative;\n",
       "  font-weight: normal;\n",
       "  right: .2ex;\n",
       "  padding: .5ex;\n",
       "  margin: .5ex;\n",
       "  width: min-content;\n",
       "  min-width: 20ex;\n",
       "  max-width: 50ex;\n",
       "  color: var(--sklearn-color-text);\n",
       "  box-shadow: 2pt 2pt 4pt #999;\n",
       "  /* unfitted */\n",
       "  background: var(--sklearn-color-unfitted-level-0);\n",
       "  border: .5pt solid var(--sklearn-color-unfitted-level-3);\n",
       "}\n",
       "\n",
       ".sk-estimator-doc-link.fitted span {\n",
       "  /* fitted */\n",
       "  background: var(--sklearn-color-fitted-level-0);\n",
       "  border: var(--sklearn-color-fitted-level-3);\n",
       "}\n",
       "\n",
       ".sk-estimator-doc-link:hover span {\n",
       "  display: block;\n",
       "}\n",
       "\n",
       "/* \"?\"-specific style due to the `<a>` HTML tag */\n",
       "\n",
       "#sk-container-id-1 a.estimator_doc_link {\n",
       "  float: right;\n",
       "  font-size: 1rem;\n",
       "  line-height: 1em;\n",
       "  font-family: monospace;\n",
       "  background-color: var(--sklearn-color-background);\n",
       "  border-radius: 1rem;\n",
       "  height: 1rem;\n",
       "  width: 1rem;\n",
       "  text-decoration: none;\n",
       "  /* unfitted */\n",
       "  color: var(--sklearn-color-unfitted-level-1);\n",
       "  border: var(--sklearn-color-unfitted-level-1) 1pt solid;\n",
       "}\n",
       "\n",
       "#sk-container-id-1 a.estimator_doc_link.fitted {\n",
       "  /* fitted */\n",
       "  border: var(--sklearn-color-fitted-level-1) 1pt solid;\n",
       "  color: var(--sklearn-color-fitted-level-1);\n",
       "}\n",
       "\n",
       "/* On hover */\n",
       "#sk-container-id-1 a.estimator_doc_link:hover {\n",
       "  /* unfitted */\n",
       "  background-color: var(--sklearn-color-unfitted-level-3);\n",
       "  color: var(--sklearn-color-background);\n",
       "  text-decoration: none;\n",
       "}\n",
       "\n",
       "#sk-container-id-1 a.estimator_doc_link.fitted:hover {\n",
       "  /* fitted */\n",
       "  background-color: var(--sklearn-color-fitted-level-3);\n",
       "}\n",
       "</style><div id=\"sk-container-id-1\" class=\"sk-top-container\"><div class=\"sk-text-repr-fallback\"><pre>RandomForestRegressor(random_state=836)</pre><b>In a Jupyter environment, please rerun this cell to show the HTML representation or trust the notebook. <br />On GitHub, the HTML representation is unable to render, please try loading this page with nbviewer.org.</b></div><div class=\"sk-container\" hidden><div class=\"sk-item\"><div class=\"sk-estimator fitted sk-toggleable\"><input class=\"sk-toggleable__control sk-hidden--visually\" id=\"sk-estimator-id-1\" type=\"checkbox\" checked><label for=\"sk-estimator-id-1\" class=\"sk-toggleable__label fitted sk-toggleable__label-arrow fitted\">&nbsp;&nbsp;RandomForestRegressor<a class=\"sk-estimator-doc-link fitted\" rel=\"noreferrer\" target=\"_blank\" href=\"https://scikit-learn.org/1.4/modules/generated/sklearn.ensemble.RandomForestRegressor.html\">?<span>Documentation for RandomForestRegressor</span></a><span class=\"sk-estimator-doc-link fitted\">i<span>Fitted</span></span></label><div class=\"sk-toggleable__content fitted\"><pre>RandomForestRegressor(random_state=836)</pre></div> </div></div></div></div>"
      ],
      "text/plain": [
       "RandomForestRegressor(random_state=836)"
      ]
     },
     "execution_count": 65,
     "metadata": {},
     "output_type": "execute_result"
    }
   ],
   "source": [
    "coin_to_rfr_model['BTCUSDT']"
   ]
  },
  {
   "cell_type": "code",
   "execution_count": 68,
   "id": "7d56920f",
   "metadata": {},
   "outputs": [
    {
     "data": {
      "text/plain": [
       "<Axes: xlabel='open_time'>"
      ]
     },
     "execution_count": 68,
     "metadata": {},
     "output_type": "execute_result"
    },
    {
     "data": {
      "image/png": "[encoded data removed]",
      "text/plain": [
       "<Figure size 640x480 with 1 Axes>"
      ]
     },
     "metadata": {},
     "output_type": "display_data"
    }
   ],
   "source": [
    "from datetime import timedelta\n",
    "\n",
    "out_sample_start_datetime = in_sample_end_datetime + timedelta(hours=4)\n",
    "eth_signals_out_sample = coin_to_signals['ETHUSDT'].loc[out_sample_start_datetime:]\n",
    "eth_out_sample_predictions = coin_to_rfr_model['ETHUSDT'].predict(eth_signals_out_sample)\n",
    "eth_out_sample_predictions = pd.Series(eth_out_sample_predictions, index=eth_signals_out_sample.index)\n",
    "\n",
    "eth_out_sample_predictions.plot()"
   ]
  },
  {
   "cell_type": "code",
   "execution_count": 73,
   "id": "222324c3",
   "metadata": {},
   "outputs": [
    {
     "data": {
      "text/plain": [
       "<Axes: xlabel='open_time'>"
      ]
     },
     "execution_count": 73,
     "metadata": {},
     "output_type": "execute_result"
    },
    {
     "data": {
      "image/png": "[encoded data removed]",
      "text/plain": [
       "<Figure size 640x480 with 1 Axes>"
      ]
     },
     "metadata": {},
     "output_type": "display_data"
    }
   ],
   "source": [
    "eth_price = px_data['ETHUSDT'].loc[out_sample_start_datetime:]['close'].astype(float)\n",
    "eth_price.plot()"
   ]
  },
  {
   "cell_type": "code",
   "execution_count": 75,
   "id": "3027bbd6",
   "metadata": {},
   "outputs": [
    {
     "data": {
      "text/plain": [
       "<Axes: xlabel='open_time'>"
      ]
     },
     "execution_count": 75,
     "metadata": {},
     "output_type": "execute_result"
    },
    {
     "data": {
      "image/png": "[encoded data removed]",
      "text/plain": [
       "<Figure size 640x480 with 1 Axes>"
      ]
     },
     "metadata": {},
     "output_type": "display_data"
    }
   ],
   "source": [
    "(eth_price - eth_out_sample_predictions).plot()"
   ]
  },
  {
   "cell_type": "code",
   "execution_count": 76,
   "id": "a0b10ce9",
   "metadata": {},
   "outputs": [
    {
     "data": {
      "text/plain": [
       "11.421993693852446"
      ]
     },
     "execution_count": 76,
     "metadata": {},
     "output_type": "execute_result"
    }
   ],
   "source": [
    "(eth_price - eth_out_sample_predictions).mean()"
   ]
  },
  {
   "cell_type": "code",
   "execution_count": 81,
   "id": "35437349",
   "metadata": {},
   "outputs": [
    {
     "data": {
      "text/plain": [
       "open_time\n",
       "2022-08-05 08:00:00    0.696224\n",
       "2022-08-05 12:00:00   -0.722754\n",
       "2022-08-05 16:00:00    0.383382\n",
       "2022-08-05 20:00:00    0.593472\n",
       "2022-08-06 00:00:00   -0.052072\n",
       "                         ...   \n",
       "2025-03-07 20:00:00   -1.117669\n",
       "2025-03-08 00:00:00    0.260325\n",
       "2025-03-08 04:00:00   -0.184460\n",
       "2025-03-08 08:00:00   -0.153981\n",
       "2025-03-08 12:00:00    0.451937\n",
       "Length: 5677, dtype: float64"
      ]
     },
     "execution_count": 81,
     "metadata": {},
     "output_type": "execute_result"
    }
   ],
   "source": [
    "eth_residuals = eth_price - eth_out_sample_predictions\n",
    "mean = eth_residuals.mean()\n",
    "std = eth_residuals.std()\n",
    "\n",
    "(eth_residuals - mean) / std"
   ]
  },
  {
   "cell_type": "code",
   "execution_count": null,
   "id": "73db5687",
   "metadata": {},
   "outputs": [],
   "source": [
    "coin_to_z_scores = dict()\n",
    "\n",
    "for coin, model in coin_to_rfr_model.items():\n",
    "    signals_out_sample = coin_to_signals[coin].loc[out_sample_start_datetime:]\n",
    "    out_sample_predictions = model.predict(signals_out_sample)\n",
    "    out_sample_predictions = pd.Series(out_sample_predictions, index=signals_out_sample.index)\n",
    "    out_sample_price = px_data[coin].loc[out_sample_start_datetime:]['close'].astype(float)\n",
    "    \n",
    "    residuals = out_sample_price - out_sample_predictions\n",
    "    residuals_mean = residuals.mean()\n",
    "    residuals_std = residuals.std()\n",
    "    z_scores = (residuals - residuals_mean) / residuals_std\n",
    "    \n",
    "    coin_to_z_scores[coin] = z_scores\n",
    "\n",
    "# eth_out_sample_predictions.plot()"
   ]
  }
 ],
 "metadata": {
  "kernelspec": {
   "display_name": "Python 3 (ipykernel)",
   "language": "python",
   "name": "python3"
  },
  "language_info": {
   "codemirror_mode": {
    "name": "ipython",
    "version": 3
   },
   "file_extension": ".py",
   "mimetype": "text/x-python",
   "name": "python",
   "nbconvert_exporter": "python",
   "pygments_lexer": "ipython3",
   "version": "3.11.5"
  }
 },
 "nbformat": 4,
 "nbformat_minor": 5
}
