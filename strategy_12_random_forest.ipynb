{
 "cells": [
  {
   "cell_type": "markdown",
   "id": "eb42f567",
   "metadata": {},
   "source": [
    "Using xgboost or a random forest to determine relevant features"
   ]
  },
  {
   "cell_type": "code",
   "execution_count": null,
   "id": "36c68b96",
   "metadata": {},
   "outputs": [],
   "source": []
  }
 ],
 "metadata": {
  "kernelspec": {
   "display_name": "Python 3 (ipykernel)",
   "language": "python",
   "name": "python3"
  },
  "language_info": {
   "codemirror_mode": {
    "name": "ipython",
    "version": 3
   },
   "file_extension": ".py",
   "mimetype": "text/x-python",
   "name": "python",
   "nbconvert_exporter": "python",
   "pygments_lexer": "ipython3",
   "version": "3.11.5"
  }
 },
 "nbformat": 4,
 "nbformat_minor": 5
}
